{
  "nbformat": 4,
  "nbformat_minor": 0,
  "metadata": {
    "colab": {
      "provenance": [],
      "authorship_tag": "ABX9TyPVLWsDoeWDM142T56NPfmv",
      "include_colab_link": true
    },
    "kernelspec": {
      "name": "python3",
      "display_name": "Python 3"
    },
    "language_info": {
      "name": "python"
    }
  },
  "cells": [
    {
      "cell_type": "markdown",
      "metadata": {
        "id": "view-in-github",
        "colab_type": "text"
      },
      "source": [
        "<a href=\"https://colab.research.google.com/github/theallyprompts/ColabTutorial/blob/main/Colab_Tutorial.ipynb\" target=\"_parent\"><img src=\"https://colab.research.google.com/assets/colab-badge.svg\" alt=\"Open In Colab\"/></a>"
      ]
    },
    {
      "cell_type": "markdown",
      "source": [
        "# **TheAlly's Colab Tutorial**"
      ],
      "metadata": {
        "id": "ZOQHIW2Oi_IP"
      }
    },
    {
      "cell_type": "markdown",
      "source": [
        "An overview of basic colab features and operation."
      ],
      "metadata": {
        "id": "-u68Gx__k6Ui"
      }
    },
    {
      "cell_type": "markdown",
      "source": [
        "## **Cells**"
      ],
      "metadata": {
        "id": "-MoUSDKVjGPt"
      }
    },
    {
      "cell_type": "markdown",
      "source": [
        "This is a TEXT cell, it doesn't execute (run) any code, but is here for **explanation** and **instruction**. It can contain images, links, and other advanced formatting using Markdown syntax."
      ],
      "metadata": {
        "id": "bQwfY4cyh3Mz"
      }
    },
    {
      "cell_type": "markdown",
      "source": [
        "Groups of cells under a heading can be collapsed by selecting the down-arrow next to the heading/title."
      ],
      "metadata": {
        "id": "7XKPJBMBjNS3"
      }
    },
    {
      "cell_type": "markdown",
      "source": [
        "The cell below is a CODE cell - it can execute Python (or some other languages). Click the run button inside the cell to see the product of a+b appear below the cell.\n",
        "You can also press **Ctrl+Enter** to run a cell when the cursor is within the grey cell borders."
      ],
      "metadata": {
        "id": "FpuMl4V5ilSw"
      }
    },
    {
      "cell_type": "code",
      "source": [
        "a = 10\n",
        "b = 5\n",
        "a + b"
      ],
      "metadata": {
        "id": "NdsiXyQHiaT3"
      },
      "execution_count": null,
      "outputs": []
    },
    {
      "cell_type": "markdown",
      "source": [
        "Text cells can also include MathJax **LATEX** equations, suich as `$\\sqrt{3x-1}+(1+x)^2$` which is rendered as $\\sqrt{3x-1}+(1+x)^2$"
      ],
      "metadata": {
        "id": "PZYE2Y9rkB69"
      }
    },
    {
      "cell_type": "markdown",
      "source": [
        "Python"
      ],
      "metadata": {
        "id": "UqWJjArflDeU"
      }
    },
    {
      "cell_type": "code",
      "source": [
        "a = 10\n",
        "b = 5\n",
        "a + b"
      ],
      "metadata": {
        "colab": {
          "base_uri": "https://localhost:8080/"
        },
        "id": "k4RR6N7elrwf",
        "outputId": "ec79ea7a-756c-4c2c-98b0-aaa70fcf73ec"
      },
      "execution_count": 4,
      "outputs": [
        {
          "output_type": "execute_result",
          "data": {
            "text/plain": [
              "15"
            ]
          },
          "metadata": {},
          "execution_count": 4
        }
      ]
    },
    {
      "cell_type": "markdown",
      "source": [
        "# **Google Drive Integration**"
      ],
      "metadata": {
        "id": "RLZcU1M1V8f8"
      }
    },
    {
      "cell_type": "markdown",
      "source": [
        "The following code snippet will ask for confirmation before connecting this Colab to your Google Drive, allowing you to share files from your local PC with the remote Colab environment."
      ],
      "metadata": {
        "id": "BGWc-J4tWB7H"
      }
    },
    {
      "cell_type": "code",
      "source": [
        "# Mount Google Drive\n",
        "from google.colab import drive\n",
        "drive.mount('/content/drive')"
      ],
      "metadata": {
        "colab": {
          "base_uri": "https://localhost:8080/"
        },
        "id": "vT40WFR4WCW2",
        "outputId": "be8f1a93-ec9c-40f5-d050-cd5f872158c6"
      },
      "execution_count": 2,
      "outputs": [
        {
          "output_type": "stream",
          "name": "stdout",
          "text": [
            "Mounted at /content/drive\n"
          ]
        }
      ]
    },
    {
      "cell_type": "markdown",
      "source": [
        "You can also connect your drive by using the menu on the left, and the Mount Drive button.\n",
        "\n",
        "![image.png](data:image/png;base64,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)"
      ],
      "metadata": {
        "id": "huydkPMbW9oy"
      }
    },
    {
      "cell_type": "markdown",
      "source": [
        "You can then change the directory by running the following code (with the appropriate path to your data) - note, this code below won't run, as it's looking for a path that doesn't exist!"
      ],
      "metadata": {
        "id": "5h_qUmuKXYOw"
      }
    },
    {
      "cell_type": "code",
      "source": [
        "# Change directory\n",
        "import os\n",
        "os.chdir(\"drive/My Drive/<some folder in your drive>\")"
      ],
      "metadata": {
        "colab": {
          "base_uri": "https://localhost:8080/",
          "height": 200
        },
        "id": "Q0qCCQr2XyIi",
        "outputId": "28f9ccf0-c8af-4251-9ed3-7e7d22fd9f06"
      },
      "execution_count": 6,
      "outputs": [
        {
          "output_type": "error",
          "ename": "FileNotFoundError",
          "evalue": "ignored",
          "traceback": [
            "\u001b[0;31m---------------------------------------------------------------------------\u001b[0m",
            "\u001b[0;31mFileNotFoundError\u001b[0m                         Traceback (most recent call last)",
            "\u001b[0;32m<ipython-input-6-b59ef7afefb4>\u001b[0m in \u001b[0;36m<cell line: 3>\u001b[0;34m()\u001b[0m\n\u001b[1;32m      1\u001b[0m \u001b[0;31m# Change directory\u001b[0m\u001b[0;34m\u001b[0m\u001b[0;34m\u001b[0m\u001b[0m\n\u001b[1;32m      2\u001b[0m \u001b[0;32mimport\u001b[0m \u001b[0mos\u001b[0m\u001b[0;34m\u001b[0m\u001b[0;34m\u001b[0m\u001b[0m\n\u001b[0;32m----> 3\u001b[0;31m \u001b[0mos\u001b[0m\u001b[0;34m.\u001b[0m\u001b[0mchdir\u001b[0m\u001b[0;34m(\u001b[0m\u001b[0;34m\"drive/My Drive/<some folder in your drive>\"\u001b[0m\u001b[0;34m)\u001b[0m\u001b[0;34m\u001b[0m\u001b[0;34m\u001b[0m\u001b[0m\n\u001b[0m",
            "\u001b[0;31mFileNotFoundError\u001b[0m: [Errno 2] No such file or directory: 'drive/My Drive/<some folder in your drive>'"
          ]
        }
      ]
    },
    {
      "cell_type": "markdown",
      "source": [
        "Once you've navigated to a folder, you can start performing operations on your Google Drive data. This example isn't reading from Google Drive, but from the local Colab sample data, but the premise is the same.\n",
        "\n",
        "The code below uses pandas.DataFrame (a Python function) to display csv (and other formats) in a two-dimensional table. You can see from the red file path where it's sourcing the data from."
      ],
      "metadata": {
        "id": "WAF7CgRqX_y-"
      }
    },
    {
      "cell_type": "code",
      "source": [
        "# Read in data\n",
        "import pandas as pd\n",
        "df = pd.read_csv('/content/sample_data/mnist_test.csv')\n",
        "df.head()"
      ],
      "metadata": {
        "colab": {
          "base_uri": "https://localhost:8080/",
          "height": 236
        },
        "id": "LX2NTeeBXYqb",
        "outputId": "3bb91a56-3322-44bd-a33d-b3819a2545e0"
      },
      "execution_count": 5,
      "outputs": [
        {
          "output_type": "execute_result",
          "data": {
            "text/plain": [
              "   7  0  0.1  0.2  0.3  0.4  0.5  0.6  0.7  0.8  ...  0.658  0.659  0.660  \\\n",
              "0  2  0    0    0    0    0    0    0    0    0  ...      0      0      0   \n",
              "1  1  0    0    0    0    0    0    0    0    0  ...      0      0      0   \n",
              "2  0  0    0    0    0    0    0    0    0    0  ...      0      0      0   \n",
              "3  4  0    0    0    0    0    0    0    0    0  ...      0      0      0   \n",
              "4  1  0    0    0    0    0    0    0    0    0  ...      0      0      0   \n",
              "\n",
              "   0.661  0.662  0.663  0.664  0.665  0.666  0.667  \n",
              "0      0      0      0      0      0      0      0  \n",
              "1      0      0      0      0      0      0      0  \n",
              "2      0      0      0      0      0      0      0  \n",
              "3      0      0      0      0      0      0      0  \n",
              "4      0      0      0      0      0      0      0  \n",
              "\n",
              "[5 rows x 785 columns]"
            ],
            "text/html": [
              "\n",
              "  <div id=\"df-666cbdc1-0296-4807-b577-092870eb55b0\">\n",
              "    <div class=\"colab-df-container\">\n",
              "      <div>\n",
              "<style scoped>\n",
              "    .dataframe tbody tr th:only-of-type {\n",
              "        vertical-align: middle;\n",
              "    }\n",
              "\n",
              "    .dataframe tbody tr th {\n",
              "        vertical-align: top;\n",
              "    }\n",
              "\n",
              "    .dataframe thead th {\n",
              "        text-align: right;\n",
              "    }\n",
              "</style>\n",
              "<table border=\"1\" class=\"dataframe\">\n",
              "  <thead>\n",
              "    <tr style=\"text-align: right;\">\n",
              "      <th></th>\n",
              "      <th>7</th>\n",
              "      <th>0</th>\n",
              "      <th>0.1</th>\n",
              "      <th>0.2</th>\n",
              "      <th>0.3</th>\n",
              "      <th>0.4</th>\n",
              "      <th>0.5</th>\n",
              "      <th>0.6</th>\n",
              "      <th>0.7</th>\n",
              "      <th>0.8</th>\n",
              "      <th>...</th>\n",
              "      <th>0.658</th>\n",
              "      <th>0.659</th>\n",
              "      <th>0.660</th>\n",
              "      <th>0.661</th>\n",
              "      <th>0.662</th>\n",
              "      <th>0.663</th>\n",
              "      <th>0.664</th>\n",
              "      <th>0.665</th>\n",
              "      <th>0.666</th>\n",
              "      <th>0.667</th>\n",
              "    </tr>\n",
              "  </thead>\n",
              "  <tbody>\n",
              "    <tr>\n",
              "      <th>0</th>\n",
              "      <td>2</td>\n",
              "      <td>0</td>\n",
              "      <td>0</td>\n",
              "      <td>0</td>\n",
              "      <td>0</td>\n",
              "      <td>0</td>\n",
              "      <td>0</td>\n",
              "      <td>0</td>\n",
              "      <td>0</td>\n",
              "      <td>0</td>\n",
              "      <td>...</td>\n",
              "      <td>0</td>\n",
              "      <td>0</td>\n",
              "      <td>0</td>\n",
              "      <td>0</td>\n",
              "      <td>0</td>\n",
              "      <td>0</td>\n",
              "      <td>0</td>\n",
              "      <td>0</td>\n",
              "      <td>0</td>\n",
              "      <td>0</td>\n",
              "    </tr>\n",
              "    <tr>\n",
              "      <th>1</th>\n",
              "      <td>1</td>\n",
              "      <td>0</td>\n",
              "      <td>0</td>\n",
              "      <td>0</td>\n",
              "      <td>0</td>\n",
              "      <td>0</td>\n",
              "      <td>0</td>\n",
              "      <td>0</td>\n",
              "      <td>0</td>\n",
              "      <td>0</td>\n",
              "      <td>...</td>\n",
              "      <td>0</td>\n",
              "      <td>0</td>\n",
              "      <td>0</td>\n",
              "      <td>0</td>\n",
              "      <td>0</td>\n",
              "      <td>0</td>\n",
              "      <td>0</td>\n",
              "      <td>0</td>\n",
              "      <td>0</td>\n",
              "      <td>0</td>\n",
              "    </tr>\n",
              "    <tr>\n",
              "      <th>2</th>\n",
              "      <td>0</td>\n",
              "      <td>0</td>\n",
              "      <td>0</td>\n",
              "      <td>0</td>\n",
              "      <td>0</td>\n",
              "      <td>0</td>\n",
              "      <td>0</td>\n",
              "      <td>0</td>\n",
              "      <td>0</td>\n",
              "      <td>0</td>\n",
              "      <td>...</td>\n",
              "      <td>0</td>\n",
              "      <td>0</td>\n",
              "      <td>0</td>\n",
              "      <td>0</td>\n",
              "      <td>0</td>\n",
              "      <td>0</td>\n",
              "      <td>0</td>\n",
              "      <td>0</td>\n",
              "      <td>0</td>\n",
              "      <td>0</td>\n",
              "    </tr>\n",
              "    <tr>\n",
              "      <th>3</th>\n",
              "      <td>4</td>\n",
              "      <td>0</td>\n",
              "      <td>0</td>\n",
              "      <td>0</td>\n",
              "      <td>0</td>\n",
              "      <td>0</td>\n",
              "      <td>0</td>\n",
              "      <td>0</td>\n",
              "      <td>0</td>\n",
              "      <td>0</td>\n",
              "      <td>...</td>\n",
              "      <td>0</td>\n",
              "      <td>0</td>\n",
              "      <td>0</td>\n",
              "      <td>0</td>\n",
              "      <td>0</td>\n",
              "      <td>0</td>\n",
              "      <td>0</td>\n",
              "      <td>0</td>\n",
              "      <td>0</td>\n",
              "      <td>0</td>\n",
              "    </tr>\n",
              "    <tr>\n",
              "      <th>4</th>\n",
              "      <td>1</td>\n",
              "      <td>0</td>\n",
              "      <td>0</td>\n",
              "      <td>0</td>\n",
              "      <td>0</td>\n",
              "      <td>0</td>\n",
              "      <td>0</td>\n",
              "      <td>0</td>\n",
              "      <td>0</td>\n",
              "      <td>0</td>\n",
              "      <td>...</td>\n",
              "      <td>0</td>\n",
              "      <td>0</td>\n",
              "      <td>0</td>\n",
              "      <td>0</td>\n",
              "      <td>0</td>\n",
              "      <td>0</td>\n",
              "      <td>0</td>\n",
              "      <td>0</td>\n",
              "      <td>0</td>\n",
              "      <td>0</td>\n",
              "    </tr>\n",
              "  </tbody>\n",
              "</table>\n",
              "<p>5 rows × 785 columns</p>\n",
              "</div>\n",
              "      <button class=\"colab-df-convert\" onclick=\"convertToInteractive('df-666cbdc1-0296-4807-b577-092870eb55b0')\"\n",
              "              title=\"Convert this dataframe to an interactive table.\"\n",
              "              style=\"display:none;\">\n",
              "        \n",
              "  <svg xmlns=\"http://www.w3.org/2000/svg\" height=\"24px\"viewBox=\"0 0 24 24\"\n",
              "       width=\"24px\">\n",
              "    <path d=\"M0 0h24v24H0V0z\" fill=\"none\"/>\n",
              "    <path d=\"M18.56 5.44l.94 2.06.94-2.06 2.06-.94-2.06-.94-.94-2.06-.94 2.06-2.06.94zm-11 1L8.5 8.5l.94-2.06 2.06-.94-2.06-.94L8.5 2.5l-.94 2.06-2.06.94zm10 10l.94 2.06.94-2.06 2.06-.94-2.06-.94-.94-2.06-.94 2.06-2.06.94z\"/><path d=\"M17.41 7.96l-1.37-1.37c-.4-.4-.92-.59-1.43-.59-.52 0-1.04.2-1.43.59L10.3 9.45l-7.72 7.72c-.78.78-.78 2.05 0 2.83L4 21.41c.39.39.9.59 1.41.59.51 0 1.02-.2 1.41-.59l7.78-7.78 2.81-2.81c.8-.78.8-2.07 0-2.86zM5.41 20L4 18.59l7.72-7.72 1.47 1.35L5.41 20z\"/>\n",
              "  </svg>\n",
              "      </button>\n",
              "      \n",
              "  <style>\n",
              "    .colab-df-container {\n",
              "      display:flex;\n",
              "      flex-wrap:wrap;\n",
              "      gap: 12px;\n",
              "    }\n",
              "\n",
              "    .colab-df-convert {\n",
              "      background-color: #E8F0FE;\n",
              "      border: none;\n",
              "      border-radius: 50%;\n",
              "      cursor: pointer;\n",
              "      display: none;\n",
              "      fill: #1967D2;\n",
              "      height: 32px;\n",
              "      padding: 0 0 0 0;\n",
              "      width: 32px;\n",
              "    }\n",
              "\n",
              "    .colab-df-convert:hover {\n",
              "      background-color: #E2EBFA;\n",
              "      box-shadow: 0px 1px 2px rgba(60, 64, 67, 0.3), 0px 1px 3px 1px rgba(60, 64, 67, 0.15);\n",
              "      fill: #174EA6;\n",
              "    }\n",
              "\n",
              "    [theme=dark] .colab-df-convert {\n",
              "      background-color: #3B4455;\n",
              "      fill: #D2E3FC;\n",
              "    }\n",
              "\n",
              "    [theme=dark] .colab-df-convert:hover {\n",
              "      background-color: #434B5C;\n",
              "      box-shadow: 0px 1px 3px 1px rgba(0, 0, 0, 0.15);\n",
              "      filter: drop-shadow(0px 1px 2px rgba(0, 0, 0, 0.3));\n",
              "      fill: #FFFFFF;\n",
              "    }\n",
              "  </style>\n",
              "\n",
              "      <script>\n",
              "        const buttonEl =\n",
              "          document.querySelector('#df-666cbdc1-0296-4807-b577-092870eb55b0 button.colab-df-convert');\n",
              "        buttonEl.style.display =\n",
              "          google.colab.kernel.accessAllowed ? 'block' : 'none';\n",
              "\n",
              "        async function convertToInteractive(key) {\n",
              "          const element = document.querySelector('#df-666cbdc1-0296-4807-b577-092870eb55b0');\n",
              "          const dataTable =\n",
              "            await google.colab.kernel.invokeFunction('convertToInteractive',\n",
              "                                                     [key], {});\n",
              "          if (!dataTable) return;\n",
              "\n",
              "          const docLinkHtml = 'Like what you see? Visit the ' +\n",
              "            '<a target=\"_blank\" href=https://colab.research.google.com/notebooks/data_table.ipynb>data table notebook</a>'\n",
              "            + ' to learn more about interactive tables.';\n",
              "          element.innerHTML = '';\n",
              "          dataTable['output_type'] = 'display_data';\n",
              "          await google.colab.output.renderOutput(dataTable, element);\n",
              "          const docLink = document.createElement('div');\n",
              "          docLink.innerHTML = docLinkHtml;\n",
              "          element.appendChild(docLink);\n",
              "        }\n",
              "      </script>\n",
              "    </div>\n",
              "  </div>\n",
              "  "
            ]
          },
          "metadata": {},
          "execution_count": 5
        }
      ]
    }
  ]
}